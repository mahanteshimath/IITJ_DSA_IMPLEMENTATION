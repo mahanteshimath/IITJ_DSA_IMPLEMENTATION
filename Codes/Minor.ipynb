{
 "cells": [
  {
   "cell_type": "markdown",
   "metadata": {},
   "source": [
    "Q5 Describe an algorithm that, given integers in the range 0 to k, preprocesses its input and\n",
    "then answers any query about how many of the integers fall into a range [a,b] in O(1)\n",
    "time. Your algorithm should use O (n+k) preprocessing time and space. Write\n",
    "complete pseudocode and give informal proof of correctness. (Hint: Use hashing.)"
   ]
  },
  {
   "cell_type": "markdown",
   "metadata": {},
   "source": [
    "My Algo"
   ]
  },
  {
   "cell_type": "code",
   "execution_count": 6,
   "metadata": {},
   "outputs": [
    {
     "name": "stdout",
     "output_type": "stream",
     "text": [
      "5\n"
     ]
    }
   ],
   "source": [
    "def preprocess(arr, max_value):\n",
    "    # Initialize frequency array\n",
    "    freq = [0] * (max_value + 1)\n",
    "    \n",
    "    # Count occurrences of each integer\n",
    "    for num in arr:\n",
    "        freq[num] += 1\n",
    "    \n",
    "    # Create prefix sum array\n",
    "    prefix_sum = [0] * (max_value + 1)\n",
    "    prefix_sum[0] = freq[0]\n",
    "    \n",
    "    for i in range(1, max_value + 1):\n",
    "        prefix_sum[i] = prefix_sum[i - 1] + freq[i]\n",
    "        # print(prefix_sum[i])\n",
    "    \n",
    "    return prefix_sum\n",
    "\n",
    "def query(prefix_sum, a, b):\n",
    "    if a == 0:\n",
    "        return prefix_sum[b]\n",
    "    else:\n",
    "        return prefix_sum[b] - prefix_sum[a - 1]\n",
    "\n",
    "# Example usage\n",
    "integers = [1,3,4,3,2,1,7,5]\n",
    "max_value = 7\n",
    "prefix_sum = preprocess(integers, max_value)\n",
    "\n",
    "# Query for the range [2, 5]\n",
    "result = query(prefix_sum, 2, 5)\n",
    "print(result)  "
   ]
  },
  {
   "cell_type": "markdown",
   "metadata": {},
   "source": [
    "Solution Given"
   ]
  },
  {
   "cell_type": "code",
   "execution_count": 7,
   "metadata": {},
   "outputs": [
    {
     "name": "stdout",
     "output_type": "stream",
     "text": [
      "5\n"
     ]
    }
   ],
   "source": [
    "def preprocess(A, k):\n",
    "    # Create a frequency array and initialize every element with 0\n",
    "    freq = [0] * (k + 1)\n",
    "    \n",
    "    # Calculate the frequency of every element in the array A\n",
    "    for i in range(len(A)):\n",
    "        freq[A[i]] += 1\n",
    "    \n",
    "    # Calculate the cumulative sum to find how many integers are smaller than or equal to i\n",
    "    for i in range(1, k + 1):\n",
    "        freq[i] = freq[i - 1] + freq[i]\n",
    "    \n",
    "    return freq\n",
    "\n",
    "def query(freq, a, b):\n",
    "    if a == 0:\n",
    "        return freq[b]\n",
    "    else:\n",
    "        return freq[b] - freq[a - 1]\n",
    "\n",
    "# Example usage\n",
    "A = [1,3,4,3,2,1,7,5]\n",
    "k = 7  # Maximum value in A\n",
    "freq = preprocess(A, k)\n",
    "\n",
    "# Query for the range [2, 5]\n",
    "result = query(freq, 2, 5)\n",
    "print(result)  # Output should be the count of numbers in the range [2, 5]"
   ]
  },
  {
   "cell_type": "markdown",
   "metadata": {},
   "source": [
    "\n",
    "\n",
    "**Question:6**\n",
    "\n",
    "Given an unsorted array \\(A\\) of distinct elements, you have to reorder it such that:\n",
    "\\[\n",
    "A[0] < A[1] > A[2] < A[3] > A[4] < A[5] > A[6] ....\n",
    "\\]\n",
    "For instance, for the input \\([3, 1, 0, 4, 8, 6, 10]\\), one possible reordering will be \\([1, 3, 0, 8, 4, 10, 6]\\).\n",
    "\n",
    "Give an \\(O(n)\\) time algorithm with a casual argument for its correctness.\n"
   ]
  },
  {
   "cell_type": "markdown",
   "metadata": {},
   "source": [
    "My Solution"
   ]
  },
  {
   "cell_type": "code",
   "execution_count": null,
   "metadata": {},
   "outputs": [
    {
     "name": "stdout",
     "output_type": "stream",
     "text": [
      "[0, 10, 1, 8, 3, 6, 4]\n"
     ]
    }
   ],
   "source": [
    "def reorder_array(A):\n",
    "    n = len(A)\n",
    "    A.sort()  # Sort the array in ascending order\n",
    "    result = [0] * n\n",
    "    left, right = 0, n - 1\n",
    "\n",
    "    for i in range(n):\n",
    "        if i % 2 == 0:\n",
    "            result[i] = A[left]\n",
    "            left += 1\n",
    "        else:\n",
    "            result[i] = A[right]\n",
    "            right -= 1\n",
    "\n",
    "    return result\n",
    "\n",
    "# Example usage\n",
    "A = [3, 1, 0, 4, 8, 6, 10]\n",
    "reordered_A = reorder_array(A)\n",
    "print(reordered_A)  "
   ]
  },
  {
   "cell_type": "markdown",
   "metadata": {},
   "source": [
    "Solution provided"
   ]
  },
  {
   "cell_type": "code",
   "execution_count": 17,
   "metadata": {},
   "outputs": [
    {
     "name": "stdout",
     "output_type": "stream",
     "text": [
      "[1, 3, 0, 8, 4, 10, 6]\n"
     ]
    }
   ],
   "source": [
    "def wiggle_sort(A):\n",
    "    n = len(A)\n",
    "    for i in range(n - 1):\n",
    "        if i % 2 == 0:\n",
    "            # Even index: A[i] should be less than A[i+1]\n",
    "            if A[i] > A[i + 1]:\n",
    "                A[i], A[i + 1] = A[i + 1], A[i]\n",
    "        else:\n",
    "            # Odd index: A[i] should be greater than A[i+1]\n",
    "            if A[i] < A[i + 1]:\n",
    "                A[i], A[i + 1] = A[i + 1], A[i]\n",
    "    return A\n",
    "\n",
    "# Example usage\n",
    "A = [3, 1, 0, 4, 8, 6, 10]\n",
    "wiggle_sorted_A = wiggle_sort(A)\n",
    "print(wiggle_sorted_A)  # Output should be a wiggle-sorted array, e.g., [1, 3, 0, 8, 4, 10, 6]"
   ]
  },
  {
   "cell_type": "markdown",
   "metadata": {},
   "source": [
    "Another Way"
   ]
  },
  {
   "cell_type": "code",
   "execution_count": 19,
   "metadata": {},
   "outputs": [
    {
     "name": "stdout",
     "output_type": "stream",
     "text": [
      "[0, 3, 1, 6, 4, 10, 8]\n"
     ]
    }
   ],
   "source": [
    "def wiggle_sort(A):\n",
    "    A.sort()\n",
    "    for i in range(1, len(A) - 1, 2):\n",
    "        A[i], A[i + 1] = A[i + 1], A[i]\n",
    "    return A\n",
    "\n",
    "# Example usage\n",
    "A = [3, 1, 0, 4, 8, 6, 10]\n",
    "wiggle_sorted_A = wiggle_sort(A)\n",
    "print(wiggle_sorted_A)"
   ]
  }
 ],
 "metadata": {
  "kernelspec": {
   "display_name": "Python 3",
   "language": "python",
   "name": "python3"
  },
  "language_info": {
   "codemirror_mode": {
    "name": "ipython",
    "version": 3
   },
   "file_extension": ".py",
   "mimetype": "text/x-python",
   "name": "python",
   "nbconvert_exporter": "python",
   "pygments_lexer": "ipython3",
   "version": "3.12.1"
  }
 },
 "nbformat": 4,
 "nbformat_minor": 2
}
